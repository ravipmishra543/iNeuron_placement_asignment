{
 "cells": [
  {
   "attachments": {},
   "cell_type": "markdown",
   "id": "a17850a1",
   "metadata": {},
   "source": [
    "# Statistics Placement Assignment"
   ]
  },
  {
   "attachments": {},
   "cell_type": "markdown",
   "id": "b9ea89ce",
   "metadata": {},
   "source": [
    "Q-4. A group of 20 friends decide to play a game in which they each write a number between 1 and 20 on a slip of paper and put it into a hat. They then draw one slip of paper at random. What is the probability that the number on the slip of paper is a perfect square (i.e., 1, 4, 9, or 16)"
   ]
  },
  {
   "cell_type": "code",
   "execution_count": 1,
   "id": "a7e99ea0",
   "metadata": {},
   "outputs": [
    {
     "name": "stdout",
     "output_type": "stream",
     "text": [
      "The probability of drawing a perfect square number is: 0.20\n"
     ]
    }
   ],
   "source": [
    "# Number of favorable outcomes (perfect squares)\n",
    "favorable_outcomes = 4\n",
    "\n",
    "# Total number of possible outcomes\n",
    "total_outcomes = 20\n",
    "\n",
    "# Calculate the probability\n",
    "probability = favorable_outcomes / total_outcomes\n",
    "\n",
    "# Display the result\n",
    "print(f\"The probability of drawing a perfect square number is: {probability:.2f}\")"
   ]
  }
 ],
 "metadata": {
  "kernelspec": {
   "display_name": "Python 3 (ipykernel)",
   "language": "python",
   "name": "python3"
  },
  "language_info": {
   "codemirror_mode": {
    "name": "ipython",
    "version": 3
   },
   "file_extension": ".py",
   "mimetype": "text/x-python",
   "name": "python",
   "nbconvert_exporter": "python",
   "pygments_lexer": "ipython3",
   "version": "3.8.15"
  }
 },
 "nbformat": 4,
 "nbformat_minor": 5
}
