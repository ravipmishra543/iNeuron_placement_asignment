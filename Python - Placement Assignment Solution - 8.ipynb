{
 "cells": [
  {
   "attachments": {},
   "cell_type": "markdown",
   "id": "070eb22c",
   "metadata": {},
   "source": [
    "# Python Placement Assignment Answers"
   ]
  },
  {
   "attachments": {},
   "cell_type": "markdown",
   "id": "c92bcb66",
   "metadata": {},
   "source": [
    "## Question 8 -\n",
    "Using the data from Question 5, write code the analyze the data and answer the following questions Note -\n",
    "\n",
    "1. Draw plots to demonstrate the analysis for the following questions and better visualizations\n",
    "2. Write code comments wherever required for code understanding\n",
    "\n",
    "Insights to be drawn -\n",
    "- Get all the overall ratings for each season and using plots compare the ratings for all the seasons, like season 1 ratings, season 2, and so on.\n",
    "- Get all the episode names, whose average rating is more than 8 for every season\n",
    "- Get all the episode names that aired before May 2019\n",
    "- Get the episode name from each season with the highest and lowest rating\n",
    "- Get the summary for the most popular ( ratings ) episode in every season"
   ]
  },
  {
   "cell_type": "code",
   "execution_count": 1,
   "id": "354f3158",
   "metadata": {},
   "outputs": [],
   "source": [
    "import requests\n",
    "import pandas as pd\n",
    "import seaborn as sns\n",
    "import matplotlib.pyplot as plt\n",
    "\n",
    "# Send a GET request to the API endpoint\n",
    "response = requests.get(\"http://api.tvmaze.com/singlesearch/shows?q=westworld&embed=episodes\")"
   ]
  },
  {
   "cell_type": "code",
   "execution_count": 2,
   "id": "5fb441c8",
   "metadata": {},
   "outputs": [],
   "source": [
    "if response.status_code == 200:\n",
    "    # Parse the JSON response\n",
    "    data = response.json()\n",
    "\n",
    "    # Access the embedded episodes data\n",
    "    episodes = data[\"_embedded\"][\"episodes\"]\n",
    "\n",
    "    # Convert the episodes data to a DataFrame\n",
    "    episodes_df = pd.DataFrame(episodes)\n",
    "\n",
    "    # Convert the \"season\" column to numeric\n",
    "    episodes_df[\"season\"] = pd.to_numeric(episodes_df[\"season\"])"
   ]
  },
  {
   "cell_type": "code",
   "execution_count": 3,
   "id": "50572e46",
   "metadata": {},
   "outputs": [
    {
     "name": "stdout",
     "output_type": "stream",
     "text": [
      "Episode names that aired before May 2019:\n",
      "0                  The Original\n",
      "1                      Chestnut\n",
      "2                     The Stray\n",
      "3             Dissonance Theory\n",
      "4                   Contrapasso\n",
      "5                 The Adversary\n",
      "6                 Trompe L'Oeil\n",
      "7                   Trace Decay\n",
      "8     The Well-Tempered Clavier\n",
      "9            The Bicameral Mind\n",
      "10           Journey Into Night\n",
      "11                      Reunion\n",
      "12              Virtù e Fortuna\n",
      "13     The Riddle of the Sphinx\n",
      "14                 Akane No Mai\n",
      "15                  Phase Space\n",
      "16                 Les Écorchés\n",
      "17                      Kiksuya\n",
      "18              Vanishing Point\n",
      "19                The Passenger\n",
      "Name: name, dtype: object\n"
     ]
    }
   ],
   "source": [
    "# Get episode names that aired before May 2019\n",
    "episodes_df[\"airdate\"] = pd.to_datetime(episodes_df[\"airdate\"])\n",
    "before_2019_episodes = episodes_df[episodes_df[\"airdate\"] < pd.to_datetime(\"2019-05-01\")]\n",
    "print(\"Episode names that aired before May 2019:\")\n",
    "print(before_2019_episodes[\"name\"])"
   ]
  }
 ],
 "metadata": {
  "kernelspec": {
   "display_name": "Python 3 (ipykernel)",
   "language": "python",
   "name": "python3"
  },
  "language_info": {
   "codemirror_mode": {
    "name": "ipython",
    "version": 3
   },
   "file_extension": ".py",
   "mimetype": "text/x-python",
   "name": "python",
   "nbconvert_exporter": "python",
   "pygments_lexer": "ipython3",
   "version": "3.8.15"
  }
 },
 "nbformat": 4,
 "nbformat_minor": 5
}
