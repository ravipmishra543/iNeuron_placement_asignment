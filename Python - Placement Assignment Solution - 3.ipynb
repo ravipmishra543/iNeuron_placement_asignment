{
 "cells": [
  {
   "attachments": {},
   "cell_type": "markdown",
   "id": "070eb22c",
   "metadata": {},
   "source": [
    "# Python Placement Assignment Answers"
   ]
  },
  {
   "attachments": {},
   "cell_type": "markdown",
   "id": "0e883ff3",
   "metadata": {},
   "source": [
    "## Question 3: -\n",
    "Write a program, which would download the data from the provided link, and then read the data and convert that into properly structured data and return it in Excel format.\n",
    "\n",
    "Note - Write comments wherever necessary explaining the code written\n",
    "\n",
    "Link - https://raw.githubusercontent.com/Biuni/PokemonGO-Pokedex/master/pokedex.json\n",
    "\n",
    "Data Attributes - id: Identification Number - int num: Number of the\n",
    "- Pokémon in the official Pokédex - int name: Pokémon name -\n",
    "- string img: URL to an image of this Pokémon - string type:\n",
    "- Pokémon type -string height: Pokémon height - float\n",
    "- weight: Pokémon weight - float candy: type of candy used to evolve Pokémon or given\n",
    "- when transferred - string candy_count: the amount of candies required to evolve - int\n",
    "- egg: Number of kilometers to travel to hatch the egg - float spawn_chance:\n",
    "- Percentage of spawn chance (NEW) - float avg_spawns: Number of this pokemon on 10.000 spawns (NEW) - int\n",
    "- spawn_time: Spawns most active at the time on this field. Spawn times are the same for all time zones and are expressed in local time. (NEW) - “minutes: seconds” multipliers: Multiplier of Combat Power (CP) for calculating the CP after evolution See below - list of int weakness: Types of\n",
    "- Pokémon this Pokémon is weak to - list of strings next_evolution: Number and Name of successive evolutions of Pokémon - list of dict prev_evolution: Number and Name of previous evolutions of Pokémon - - list of dict"
   ]
  },
  {
   "cell_type": "code",
   "execution_count": null,
   "id": "ab3f4e04",
   "metadata": {},
   "outputs": [],
   "source": [
    "import pandas as pd\n",
    "import requests\n",
    "\n",
    "def data_to_excel(link,filename):\n",
    "    # Download the data from the provided link\n",
    "    response = requests.get(link)\n",
    "    data = response.json()\n",
    "    data = data[\"pokemon\"]\n",
    "    new_data = pd.DataFrame(data)\n",
    "    new_data.to_excel(filename,index=False)\n",
    "    \n",
    "    return new_data\n",
    "pokemon = data_to_excel(\"https://raw.githubusercontent.com/Biuni/PokemonGO-Pokedex/master/pokedex.json\", \"pokemon.xlsx\")"
   ]
  }
 ],
 "metadata": {
  "kernelspec": {
   "display_name": "Python 3 (ipykernel)",
   "language": "python",
   "name": "python3"
  },
  "language_info": {
   "codemirror_mode": {
    "name": "ipython",
    "version": 3
   },
   "file_extension": ".py",
   "mimetype": "text/x-python",
   "name": "python",
   "nbconvert_exporter": "python",
   "pygments_lexer": "ipython3",
   "version": "3.8.15"
  }
 },
 "nbformat": 4,
 "nbformat_minor": 5
}
