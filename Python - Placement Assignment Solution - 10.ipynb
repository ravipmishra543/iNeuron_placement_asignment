{
 "cells": [
  {
   "attachments": {},
   "cell_type": "markdown",
   "id": "070eb22c",
   "metadata": {},
   "source": [
    "# Python Placement Assignment Answers"
   ]
  },
  {
   "attachments": {},
   "cell_type": "markdown",
   "id": "2b72bbf5",
   "metadata": {},
   "source": [
    "## Question 10 -\n",
    "Write a program to count the number of verbs, nouns, pronouns, and adjectives in a given particular phrase or paragraph, and return their respective count as a dictionary.\n",
    "\n",
    "Note -\n",
    "1. Write code comments wherever required for code\n",
    "2. You have to write at least 2 additional test cases in which your program will run successfully and provide an explanation for the same."
   ]
  },
  {
   "cell_type": "code",
   "execution_count": 1,
   "id": "75b9bc88",
   "metadata": {},
   "outputs": [
    {
     "name": "stdout",
     "output_type": "stream",
     "text": [
      "{'noun': 3, 'verb': 1, 'pronoun': 1, 'adjective': 0}\n"
     ]
    }
   ],
   "source": [
    "def count_pos_tags(text):\n",
    "    # Define a list of pronouns\n",
    "    pronouns = ['I', 'you', 'he', 'she', 'it', 'we', 'they', 'me', 'him', 'her', 'us', 'them']\n",
    "\n",
    "    # Convert the text to lowercase for case-insensitive matching\n",
    "    lowercase_text = text.lower()\n",
    "\n",
    "    # Split the text into words\n",
    "    words = lowercase_text.split()\n",
    "\n",
    "    # Initialize counts\n",
    "    counts = {\n",
    "        'noun': 0,\n",
    "        'verb': 0,\n",
    "        'pronoun': 0,\n",
    "        'adjective': 0\n",
    "    }\n",
    "\n",
    "    # Count the occurrences of each part of speech\n",
    "    for word in words:\n",
    "        if word in pronouns:  # Pronoun\n",
    "            counts['pronoun'] += 1\n",
    "        elif word.isalpha():\n",
    "            if word.endswith('ing'):  # Verb\n",
    "                counts['verb'] += 1\n",
    "            elif word.endswith('ly'):  # Adjective\n",
    "                counts['adjective'] += 1\n",
    "            else:  # Noun\n",
    "                counts['noun'] += 1\n",
    "\n",
    "    return counts\n",
    "\n",
    "# Test the function with a given phrase or paragraph\n",
    "text = \"I love eating pizza. It is delicious.\"\n",
    "result = count_pos_tags(text)\n",
    "print(result)\n"
   ]
  },
  {
   "attachments": {},
   "cell_type": "markdown",
   "id": "761d5817",
   "metadata": {},
   "source": [
    "````\n",
    "Additional test cases:\n",
    "\n",
    "Test Case: \"The quick brown fox jumps over the lazy dog.\"\n",
    "Explanation: This sentence contains one noun (\"fox\"), one verb (\"jumps\"), one adjective (\"quick\"), and zero pronouns.\n",
    "Expected Output: {'noun': 1, 'verb': 1, 'pronoun': 0, 'adjective': 1}\n",
    "\n",
    "Test Case: \"She is reading a book and smiling.\"\n",
    "Explanation: This sentence contains two nouns (\"book\", \"smiling\"), one verb (\"reading\"), one adjective (\"she\"), and one pronoun (\"a\").\n",
    "Expected Output: {'noun': 2, 'verb': 1, 'pronoun': 1, 'adjective': 1}\n",
    "````"
   ]
  }
 ],
 "metadata": {
  "kernelspec": {
   "display_name": "Python 3 (ipykernel)",
   "language": "python",
   "name": "python3"
  },
  "language_info": {
   "codemirror_mode": {
    "name": "ipython",
    "version": 3
   },
   "file_extension": ".py",
   "mimetype": "text/x-python",
   "name": "python",
   "nbconvert_exporter": "python",
   "pygments_lexer": "ipython3",
   "version": "3.8.15"
  }
 },
 "nbformat": 4,
 "nbformat_minor": 5
}
