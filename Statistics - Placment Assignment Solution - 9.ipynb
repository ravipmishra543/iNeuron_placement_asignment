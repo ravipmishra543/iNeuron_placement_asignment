{
 "cells": [
  {
   "attachments": {},
   "cell_type": "markdown",
   "id": "a17850a1",
   "metadata": {},
   "source": [
    "# Statistics Placement Assignment"
   ]
  },
  {
   "attachments": {},
   "cell_type": "markdown",
   "id": "763051e9",
   "metadata": {},
   "source": [
    "Q-9. Given the score of students in multiple exams. Test the hypothesis that the mean scores of all the students are the same. If not, name the student with the highest score."
   ]
  },
  {
   "cell_type": "code",
   "execution_count": 2,
   "id": "6fee3490",
   "metadata": {},
   "outputs": [
    {
     "name": "stdout",
     "output_type": "stream",
     "text": [
      "The mean scores of the students are the same.\n"
     ]
    }
   ],
   "source": [
    "import scipy.stats as stats\n",
    "# Prepare the data\n",
    "exam1_scores = [85,70,90,75,95]  # Scores of students in Exam 1\n",
    "exam2_scores = [90,80,85,70,92]  # Scores of students in Exam 2\n",
    "\n",
    "# Perform one-way ANOVA\n",
    "f_statistic, p_value = stats.f_oneway(exam1_scores, exam2_scores)\n",
    "\n",
    "alpha = 0.05  # Set the significance level\n",
    "\n",
    "# Check if the null hypothesis is rejected or not\n",
    "if p_value < alpha:\n",
    "    print(\"The mean scores of the students are not the same.\")\n",
    "    \n",
    "    # Find the student with the highest score\n",
    "    all_scores = exam1_scores + exam2_scores \n",
    "    highest_score = max(all_scores)\n",
    "    \n",
    "    # Find the student(s) with the highest score\n",
    "    highest_scoring_students = [i + 1 for i, score in enumerate(all_scores) if score == highest_score]\n",
    "    print(f\"The student(s) with the highest score is/are: {highest_scoring_students}\")\n",
    "    \n",
    "else:\n",
    "    print(\"The mean scores of the students are the same.\")\n"
   ]
  }
 ],
 "metadata": {
  "kernelspec": {
   "display_name": "Python 3 (ipykernel)",
   "language": "python",
   "name": "python3"
  },
  "language_info": {
   "codemirror_mode": {
    "name": "ipython",
    "version": 3
   },
   "file_extension": ".py",
   "mimetype": "text/x-python",
   "name": "python",
   "nbconvert_exporter": "python",
   "pygments_lexer": "ipython3",
   "version": "3.8.15"
  }
 },
 "nbformat": 4,
 "nbformat_minor": 5
}
