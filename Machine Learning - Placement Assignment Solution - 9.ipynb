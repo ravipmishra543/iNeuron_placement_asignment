{
 "cells": [
  {
   "attachments": {},
   "cell_type": "markdown",
   "id": "08e2c0a6",
   "metadata": {},
   "source": [
    "# Machine Learning Placement Assignment"
   ]
  },
  {
   "attachments": {},
   "cell_type": "markdown",
   "id": "9a7429da",
   "metadata": {},
   "source": [
    "**Q-9.** A cyber security agent wants to check the Microsoft Malware so need he came\n",
    "to you as a Machine learning Engineering with Data, You need to find the Malware\n",
    "using a supervised algorithm and you need to find the accuracy of the model.\n",
    "Dataset This is the Dataset You can use this dataset for this question.\n",
    "\n",
    "1. An Ad- Agency analyzed a dataset of online ads and used a machine learning model to predict whether a user would click on an ad or not. \n",
    "\n",
    "Dataset This is the Dataset You can use this dataset for this question."
   ]
  },
  {
   "attachments": {},
   "cell_type": "markdown",
   "id": "2761a08c",
   "metadata": {},
   "source": [
    "**ANS** = To big data cannot open in my system"
   ]
  }
 ],
 "metadata": {
  "kernelspec": {
   "display_name": "Python 3 (ipykernel)",
   "language": "python",
   "name": "python3"
  },
  "language_info": {
   "codemirror_mode": {
    "name": "ipython",
    "version": 3
   },
   "file_extension": ".py",
   "mimetype": "text/x-python",
   "name": "python",
   "nbconvert_exporter": "python",
   "pygments_lexer": "ipython3",
   "version": "3.8.7"
  }
 },
 "nbformat": 4,
 "nbformat_minor": 5
}
