{
 "cells": [
  {
   "attachments": {},
   "cell_type": "markdown",
   "id": "070eb22c",
   "metadata": {},
   "source": [
    "# Python Placement Assignment Answers"
   ]
  },
  {
   "attachments": {},
   "cell_type": "markdown",
   "id": "4930eb8e",
   "metadata": {},
   "source": [
    "## Question 1: -\n",
    "Write a program that takes a string as input, and counts the frequency of each word in the string, there might be repeated characters in the string. Your task is to find the highest frequency and returns the length of the highest-frequency word. \n",
    "\n",
    "Note - You have to write at least 2 additional test cases in which your program will run successfully and provide an explanation for the same. \n",
    "\n",
    "Example input - string = “write write write all the number from from from 1 to 100”\n",
    "\n",
    "Example output - 5\n",
    "\n",
    "Explanation - From the given string we can note that the most frequent words are “write” and “from” and the maximum value of both the values is “write” and its corresponding length is 5."
   ]
  },
  {
   "cell_type": "code",
   "execution_count": 1,
   "id": "43ef0880",
   "metadata": {},
   "outputs": [],
   "source": [
    "def highest_frequency(string):\n",
    "    # Split the string into words\n",
    "    words = string.split()\n",
    "    \n",
    "    #Create the dict to store words\n",
    "    word_frequency = {}\n",
    "    \n",
    "    # Count the frequency of each word\n",
    "    for i in words:\n",
    "        if i in word_frequency:\n",
    "            word_frequency[i] += 1\n",
    "        else:\n",
    "            word_frequency[i] = 1\n",
    "            \n",
    "    #find the max frequency\n",
    "    max_frequency = max(word_frequency.values())\n",
    "    \n",
    "    #find length\n",
    "    \n",
    "    for i,j in word_frequency.items():\n",
    "        if j == max_frequency:\n",
    "            return len(i)  "
   ]
  },
  {
   "cell_type": "code",
   "execution_count": 2,
   "id": "7bb4f29f",
   "metadata": {},
   "outputs": [
    {
     "data": {
      "text/plain": [
       "5"
      ]
     },
     "execution_count": 2,
     "metadata": {},
     "output_type": "execute_result"
    }
   ],
   "source": [
    "highest_frequency(\"write write write all the number from from from 1 to 100\")"
   ]
  }
 ],
 "metadata": {
  "kernelspec": {
   "display_name": "Python 3 (ipykernel)",
   "language": "python",
   "name": "python3"
  },
  "language_info": {
   "codemirror_mode": {
    "name": "ipython",
    "version": 3
   },
   "file_extension": ".py",
   "mimetype": "text/x-python",
   "name": "python",
   "nbconvert_exporter": "python",
   "pygments_lexer": "ipython3",
   "version": "3.8.15"
  }
 },
 "nbformat": 4,
 "nbformat_minor": 5
}
