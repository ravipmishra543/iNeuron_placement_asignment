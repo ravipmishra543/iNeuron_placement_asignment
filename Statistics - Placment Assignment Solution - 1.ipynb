{
 "cells": [
  {
   "attachments": {},
   "cell_type": "markdown",
   "id": "a17850a1",
   "metadata": {},
   "source": [
    "# Statistics Placement Assignment"
   ]
  },
  {
   "attachments": {},
   "cell_type": "markdown",
   "id": "09825c66",
   "metadata": {},
   "source": [
    "Q-1. A university wants to understand the relationship between the SAT scores of its applicants and their college GPA. They collect data on 500 students, including their SAT scores (out of 1600) and their college GPA (on a 4.0 scale). They find that the correlation coefficient between SAT scores and college GPA is 0.7. What does this correlation coefficient indicate about the relationship between SAT scores and college GPA?"
   ]
  },
  {
   "attachments": {},
   "cell_type": "markdown",
   "id": "bc4de190",
   "metadata": {},
   "source": [
    "**Ans** = \n",
    "```\n",
    "A correlation coefficient of 0.7 indicates a strong positive relationship between SAT scores and college GPA. The correlation coefficient ranges from -1 to 1, where 1 represents a perfect positive relationship, 0 represents no relationship, and -1 represents a perfect negative relationship. In this case, the correlation coefficient of 0.7 suggests a strong positive association, indicating that higher SAT scores are generally associated with higher college GPAs.\n",
    "\n",
    "It's important to note that correlation does not imply causation. While the correlation coefficient indicates a relationship between SAT scores and college GPA, it does not establish a cause-and-effect relationship. Other factors, such as study habits, motivation, and personal circumstances, can also influence college GPA and should be considered when interpreting the results.\n",
    "```"
   ]
  }
 ],
 "metadata": {
  "kernelspec": {
   "display_name": "Python 3 (ipykernel)",
   "language": "python",
   "name": "python3"
  },
  "language_info": {
   "codemirror_mode": {
    "name": "ipython",
    "version": 3
   },
   "file_extension": ".py",
   "mimetype": "text/x-python",
   "name": "python",
   "nbconvert_exporter": "python",
   "pygments_lexer": "ipython3",
   "version": "3.8.7"
  }
 },
 "nbformat": 4,
 "nbformat_minor": 5
}
