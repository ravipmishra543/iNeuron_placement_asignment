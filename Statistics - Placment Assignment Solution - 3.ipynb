{
 "cells": [
  {
   "attachments": {},
   "cell_type": "markdown",
   "id": "a17850a1",
   "metadata": {},
   "source": [
    "# Statistics Placement Assignment"
   ]
  },
  {
   "attachments": {},
   "cell_type": "markdown",
   "id": "45449944",
   "metadata": {},
   "source": [
    "Q-3. Consider the ‘Blood Pressure Before’ and ‘Blood Pressure After’ columns from the data and calculate the following\n",
    "\n",
    "https://drive.google.com/file/d/1mCjtYHiX--mMUjicuaP2gH3k-SnFxt8Y/view?usp=share_\n",
    "\n",
    "a. Measure the dispersion in both and interpret the results.\n",
    "\n",
    "b. Calculate mean and 5% confidence interval and plot it in a graph\n",
    "\n",
    "c. Calculate the Mean absolute deviation and Standard deviation and interpret the results.\n",
    "\n",
    "d. Calculate the correlation coefficient and check the significance of it at 1% level of significance."
   ]
  },
  {
   "cell_type": "code",
   "execution_count": 1,
   "id": "cce59668",
   "metadata": {},
   "outputs": [],
   "source": [
    "import pandas as pd\n",
    "import matplotlib.pyplot as plt\n",
    "import scipy.stats as stats\n",
    "\n",
    "data = pd.read_csv(\"Statistics_Question_11_Dataset.csv\")\n",
    "data.columns = [\"Patient ID\",\"Blood Pressure Before\",\"Blood Pressure After\"]\n",
    "data.drop(\"Patient ID\",axis=1,inplace=True)"
   ]
  },
  {
   "cell_type": "code",
   "execution_count": 2,
   "id": "285b45c3",
   "metadata": {},
   "outputs": [
    {
     "name": "stdout",
     "output_type": "stream",
     "text": [
      "Blood Pressure Before    43.1019\n",
      "Blood Pressure After     46.9704\n",
      "dtype: float64\n",
      "==============================\n",
      "Blood Pressure Before    6.565204\n",
      "Blood Pressure After     6.853495\n",
      "dtype: float64\n"
     ]
    }
   ],
   "source": [
    "# a.Measure the dispersion in both and interpret the results.\n",
    "\n",
    "import numpy as np\n",
    "# Calculate variance and standard deviation\n",
    "variance = np.var(data)\n",
    "std_dev = np.std(data)\n",
    "print(variance)\n",
    "print(\"=\"*30)\n",
    "print(std_dev)"
   ]
  },
  {
   "cell_type": "code",
   "execution_count": 3,
   "id": "2f1a5ada",
   "metadata": {},
   "outputs": [
    {
     "name": "stderr",
     "output_type": "stream",
     "text": [
      "c:\\Users\\ravip\\miniconda3\\envs\\env1\\lib\\site-packages\\numpy\\core\\fromnumeric.py:3430: FutureWarning: In a future version, DataFrame.mean(axis=None) will return a scalar mean over the entire DataFrame. To retain the old behavior, use 'frame.mean(axis=0)' or just 'frame.mean()'\n",
      "  return mean(axis=axis, dtype=dtype, out=out, **kwargs)\n",
      "c:\\Users\\ravip\\miniconda3\\envs\\env1\\lib\\site-packages\\numpy\\core\\fromnumeric.py:3430: FutureWarning: In a future version, DataFrame.mean(axis=None) will return a scalar mean over the entire DataFrame. To retain the old behavior, use 'frame.mean(axis=0)' or just 'frame.mean()'\n",
      "  return mean(axis=axis, dtype=dtype, out=out, **kwargs)\n",
      "No artists with labels found to put in legend.  Note that artists whose label start with an underscore are ignored when legend() is called with no argument.\n"
     ]
    },
    {
     "data": {
      "image/png": "[encoded data removed]",
      "text/plain": [
       "<Figure size 800x600 with 1 Axes>"
      ]
     },
     "metadata": {},
     "output_type": "display_data"
    },
    {
     "name": "stdout",
     "output_type": "stream",
     "text": [
      "Mean data: 170.00\n",
      "Confidence Interval (95%): (array([132.60075849, 126.99326698]), array([135.21924151, 129.72673302]))\n"
     ]
    }
   ],
   "source": [
    "#b. Calculate mean and 5% confidence interval and plot it in a graph\n",
    "# Given values\n",
    "mean_height = 170\n",
    "std_dev = 10\n",
    "# Calculate mean\n",
    "mean = np.mean(data)\n",
    "# Calculate 5% confidence interval\n",
    "confidence_interval = stats.t.interval(0.95, len(data) - 1, loc=np.mean(data), scale=stats.sem(data))\n",
    "\n",
    "# Plotting the mean and confidence interval\n",
    "plt.figure(figsize=(8, 6))\n",
    "plt.hist(data, bins=30, alpha=0.5)\n",
    "plt.xlabel('Height (cm)')\n",
    "plt.ylabel('Frequency')\n",
    "plt.title('Distribution with Mean and 95% Confidence Interval')\n",
    "plt.legend()\n",
    "plt.show()\n",
    "\n",
    "print(f\"Mean data: {mean_height:.2f}\")\n",
    "print(f\"Confidence Interval (95%): {confidence_interval}\")"
   ]
  },
  {
   "cell_type": "code",
   "execution_count": 4,
   "id": "ed2d52da",
   "metadata": {},
   "outputs": [
    {
     "name": "stdout",
     "output_type": "stream",
     "text": [
      "Blood Pressure Before    5.7118\n",
      "Blood Pressure After     5.9000\n",
      "dtype: float64\n",
      "**************************************************\n",
      "Blood Pressure Before    6.565204\n",
      "Blood Pressure After     6.853495\n",
      "dtype: float64\n"
     ]
    },
    {
     "name": "stderr",
     "output_type": "stream",
     "text": [
      "c:\\Users\\ravip\\miniconda3\\envs\\env1\\lib\\site-packages\\numpy\\core\\fromnumeric.py:3430: FutureWarning: In a future version, DataFrame.mean(axis=None) will return a scalar mean over the entire DataFrame. To retain the old behavior, use 'frame.mean(axis=0)' or just 'frame.mean()'\n",
      "  return mean(axis=axis, dtype=dtype, out=out, **kwargs)\n",
      "c:\\Users\\ravip\\miniconda3\\envs\\env1\\lib\\site-packages\\numpy\\core\\fromnumeric.py:3430: FutureWarning: In a future version, DataFrame.mean(axis=None) will return a scalar mean over the entire DataFrame. To retain the old behavior, use 'frame.mean(axis=0)' or just 'frame.mean()'\n",
      "  return mean(axis=axis, dtype=dtype, out=out, **kwargs)\n"
     ]
    }
   ],
   "source": [
    "#c. Calculate the Mean absolute deviation and Standard deviation and interpret the results\n",
    "c= np.mean(np.abs(data-np.mean(data)))\n",
    "sd = np.std(data)\n",
    "print(c)\n",
    "print(\"*\"*50)\n",
    "print(sd)"
   ]
  },
  {
   "cell_type": "code",
   "execution_count": 5,
   "id": "b935f4f3",
   "metadata": {},
   "outputs": [
    {
     "name": "stdout",
     "output_type": "stream",
     "text": [
      "Correlation Coefficient: 0.98\n",
      "p-value: 0.0000\n",
      "The correlation coefficient is statistically significant at the 1% level of significance.\n"
     ]
    }
   ],
   "source": [
    "#d. Calculate the correlation coefficient and check the significance of it at 1% levelof significance.\n",
    "\n",
    "import scipy.stats as stats\n",
    "\n",
    "# Given datasets\n",
    "x = data[\"Blood Pressure Before\"]  \n",
    "y = data[\"Blood Pressure After\"]\n",
    "\n",
    "# Calculate correlation coefficient\n",
    "corr_coef, p_value = stats.pearsonr(x, y)\n",
    "\n",
    "print(f\"Correlation Coefficient: {corr_coef:.2f}\")\n",
    "print(f\"p-value: {p_value:.4f}\")\n",
    "\n",
    "# Check significance at 1% level of significance\n",
    "if p_value < 0.01:\n",
    "    print(\"The correlation coefficient is statistically significant at the 1% level of significance.\")\n",
    "else:\n",
    "    print(\"The correlation coefficient is not statistically significant at the 1% level of significance.\")\n"
   ]
  }
 ],
 "metadata": {
  "kernelspec": {
   "display_name": "Python 3 (ipykernel)",
   "language": "python",
   "name": "python3"
  },
  "language_info": {
   "codemirror_mode": {
    "name": "ipython",
    "version": 3
   },
   "file_extension": ".py",
   "mimetype": "text/x-python",
   "name": "python",
   "nbconvert_exporter": "python",
   "pygments_lexer": "ipython3",
   "version": "3.8.15"
  }
 },
 "nbformat": 4,
 "nbformat_minor": 5
}
