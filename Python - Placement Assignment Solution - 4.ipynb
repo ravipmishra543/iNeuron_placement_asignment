{
 "cells": [
  {
   "attachments": {},
   "cell_type": "markdown",
   "id": "070eb22c",
   "metadata": {},
   "source": [
    "# Python Placement Assignment Answers"
   ]
  },
  {
   "attachments": {},
   "cell_type": "markdown",
   "id": "1b61189b",
   "metadata": {},
   "source": [
    "## Question 4 -\n",
    "Write a program to download the data from the link given below and then read the data and convert the into the proper structure and return it as a CSV file.\n",
    "\n",
    "Link - https://data.nasa.gov/resource/y77d-th95.json\n",
    "\n",
    "Note - Write code comments wherever needed for code understanding.\n",
    "\n",
    "Excepted Output Data Attributes\n",
    "\n",
    "- Name of Earth Meteorite - string id - ID of Earth\n",
    "- Meteorite - int nametype - string recclass - string\n",
    "- mass - Mass of Earth Meteorite - float year - Year at which Earth\n",
    "- Meteorite was hit - datetime format reclat - float recclong - float\n",
    "- point coordinates - list of int\n"
   ]
  },
  {
   "cell_type": "code",
   "execution_count": 2,
   "id": "ee137471",
   "metadata": {},
   "outputs": [],
   "source": [
    "import pandas as pd\n",
    "import requests"
   ]
  },
  {
   "cell_type": "code",
   "execution_count": 3,
   "id": "bef08677",
   "metadata": {},
   "outputs": [],
   "source": [
    "def fatch_data_from_url(link):\n",
    "    # Download the data from the provided link\n",
    "    response = requests.get(link)\n",
    "    #use request to pull from url\n",
    "    data = response.json()\n",
    "    return data\n",
    "data = fatch_data_from_url(\"https://data.nasa.gov/resource/y77d-th95.json\")\n",
    "df = pd.DataFrame(data)\n",
    "df.drop([\":@computed_region_cbhk_fwbd\",\":@computed_region_nnqa_25f4\",\"id\",\"fall\",\"reclat\",\"reclong\"],axis=1,inplace=True)\n",
    "df.to_csv(\"meteorite.scv\",index=False)"
   ]
  }
 ],
 "metadata": {
  "kernelspec": {
   "display_name": "Python 3 (ipykernel)",
   "language": "python",
   "name": "python3"
  },
  "language_info": {
   "codemirror_mode": {
    "name": "ipython",
    "version": 3
   },
   "file_extension": ".py",
   "mimetype": "text/x-python",
   "name": "python",
   "nbconvert_exporter": "python",
   "pygments_lexer": "ipython3",
   "version": "3.8.15"
  }
 },
 "nbformat": 4,
 "nbformat_minor": 5
}
