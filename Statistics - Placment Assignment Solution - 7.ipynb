{
 "cells": [
  {
   "attachments": {},
   "cell_type": "markdown",
   "id": "a17850a1",
   "metadata": {},
   "source": [
    "# Statistics Placement Assignment"
   ]
  },
  {
   "attachments": {},
   "cell_type": "markdown",
   "id": "26ad1a80",
   "metadata": {},
   "source": [
    "Q-7. The equations of two lines of regression, obtained in a correlation analysis between variables X and Y are as follows:\n",
    "\n",
    "2X + 3Y − 8 = 0 2Y + X − 5 = 0 The variance of X = 4 \n",
    "\n",
    "Find the\n",
    "\n",
    "a. Variance of Y\n",
    "\n",
    "b. Coefficient of determination of C and Y\n",
    "\n",
    "c. Standard error of estimate of X on Y and of Y on X."
   ]
  },
  {
   "attachments": {},
   "cell_type": "markdown",
   "id": "e5597688",
   "metadata": {},
   "source": [
    "**ANS** = \n",
    "```\n",
    "To find the variance of y, coefficient of determination of x and y, and the standard error of estimate of x on y and y on x, we need to work with the given equations of regression lines and the variance of x. Let's calculate each of these values:\n",
    "\n",
    "Given equations of regression lines:\n",
    "\n",
    "2x + 3y - 8 = 0\n",
    "2y + x - 5 = 0\n",
    "Variance of x = 4\n",
    "\n",
    "a. Variance of y:\n",
    "To find the variance of y, we need to calculate the slope of the regression line of y on x, which is the coefficient of x in the second equation. From the second equation, we can rewrite it as y = (-1/2)x + 5/2.\n",
    "\n",
    "The variance of y can be calculated using the formula:\n",
    "\n",
    "Var(y) = Var(x) * (slope^2)\n",
    "\n",
    "Given Var(x) = 4 and slope = -1/2:\n",
    "\n",
    "Var(y) = 4 * (-1/2)^2\n",
    "= 4 * 1/4\n",
    "= 1\n",
    "\n",
    "Therefore, the variance of y is 1.\n",
    "\n",
    "b. Coefficient of determination of x and y:\n",
    "The coefficient of determination, denoted as R^2, represents the proportion of the variance in the dependent variable (y) that can be explained by the independent variable (x).\n",
    "\n",
    "In this case, we can calculate R^2 as the square of the correlation coefficient (r) between x and y. The correlation coefficient can be found by taking the square root of the product of the slopes of the regression lines:\n",
    "\n",
    "r = √(slope_y_on_x * slope_x_on_y)\n",
    "\n",
    "From the given equations, we have the following slopes:\n",
    "\n",
    "slope_y_on_x = -1/2\n",
    "slope_x_on_y = -2/3\n",
    "Calculating r:\n",
    "r = √((-1/2) * (-2/3))\n",
    "= √(1/3)\n",
    "= 1/√3\n",
    "\n",
    "Now, the coefficient of determination can be calculated as the square of r:\n",
    "\n",
    "R^2 = (1/√3)^2\n",
    "= 1/3\n",
    "\n",
    "Therefore, the coefficient of determination of x and y is 1/3.\n",
    "\n",
    "c. Standard error of estimate:\n",
    "The standard error of estimate measures the average deviation of the observed values from the regression line.\n",
    "\n",
    "For the standard error of estimate of x on y (SEE_x_on_y), it can be calculated using the formula:\n",
    "\n",
    "SEE_x_on_y = √(SSE_x_on_y / (n - 2))\n",
    "\n",
    "For the standard error of estimate of y on x (SEE_y_on_x), it can be calculated using the formula:\n",
    "\n",
    "SEE_y_on_x = √(SSE_y_on_x / (n - 2))\n",
    "\n",
    "However, to calculate the standard error of estimate, we need additional information such as the actual data points or the residuals. Without this information, we cannot calculate the standard error of estimate.\n",
    "\n",
    "To summarize:\n",
    "a. The variance of y is 1.\n",
    "b. The coefficient of determination of x and y is 1/3.\n",
    "c. The standard error of estimate cannot be calculated without additional information.\n",
    "```"
   ]
  }
 ],
 "metadata": {
  "kernelspec": {
   "display_name": "Python 3 (ipykernel)",
   "language": "python",
   "name": "python3"
  },
  "language_info": {
   "codemirror_mode": {
    "name": "ipython",
    "version": 3
   },
   "file_extension": ".py",
   "mimetype": "text/x-python",
   "name": "python",
   "nbconvert_exporter": "python",
   "pygments_lexer": "ipython3",
   "version": "3.8.7"
  }
 },
 "nbformat": 4,
 "nbformat_minor": 5
}
